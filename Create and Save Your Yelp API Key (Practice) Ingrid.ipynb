{
 "cells": [
  {
   "cell_type": "markdown",
   "id": "3d056b55",
   "metadata": {},
   "source": [
    "## Create and Save Your Yelp API Key (Practice)\n",
    "---\n",
    "* ### Ingrid Arbieto Nelson"
   ]
  },
  {
   "cell_type": "markdown",
   "id": "87d0ec0c",
   "metadata": {},
   "source": [
    "While this assignment is optional, you can use the notebook & repository created in this practice assignment as a starting point for your first Core assignment.\n",
    "\n",
    "* Follow the instructions from the previous 2 lessons to get your Yelp Fusion API credentials. \n",
    "* Save them locally in a yelp-api.json file located in a \".secret/\" folder inside your user folder. \n",
    "* Create a new repository with GitHub desktop. \n",
    "* Load in your API credentials using the JSON module and display what keys are in the dictionary.\n",
    "   *  DO NOT DISPLAY THE VALUES OF THIS DICTIONARY!!!\n",
    "Save, commit, and push your work to GitHub.\n",
    "\n",
    "\n"
   ]
  },
  {
   "cell_type": "code",
   "execution_count": 1,
   "id": "b9321fe0",
   "metadata": {},
   "outputs": [],
   "source": [
    "# import JSON module\n",
    "import json"
   ]
  },
  {
   "cell_type": "code",
   "execution_count": 2,
   "id": "5026229c",
   "metadata": {},
   "outputs": [
    {
     "data": {
      "text/plain": [
       "dict_keys(['client-id', 'api-key'])"
      ]
     },
     "execution_count": 2,
     "metadata": {},
     "output_type": "execute_result"
    }
   ],
   "source": [
    "# display login keys\n",
    "with open('/Users/sweet/.secret/yelp_api.json') as f: #change the path to match YOUR path!!\n",
    "    login = json.load(f)\n",
    "login.keys()"
   ]
  }
 ],
 "metadata": {
  "kernelspec": {
   "display_name": "Python (dojo-env)",
   "language": "python",
   "name": "dojo-env"
  },
  "language_info": {
   "codemirror_mode": {
    "name": "ipython",
    "version": 3
   },
   "file_extension": ".py",
   "mimetype": "text/x-python",
   "name": "python",
   "nbconvert_exporter": "python",
   "pygments_lexer": "ipython3",
   "version": "3.9.15"
  },
  "toc": {
   "base_numbering": 1,
   "nav_menu": {},
   "number_sections": false,
   "sideBar": true,
   "skip_h1_title": false,
   "title_cell": "Table of Contents",
   "title_sidebar": "Contents",
   "toc_cell": false,
   "toc_position": {},
   "toc_section_display": true,
   "toc_window_display": false
  }
 },
 "nbformat": 4,
 "nbformat_minor": 5
}
